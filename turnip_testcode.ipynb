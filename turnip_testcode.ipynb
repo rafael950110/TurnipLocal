{
 "cells": [
  {
   "cell_type": "code",
   "execution_count": null,
   "id": "36585cd6-d936-434f-9c36-2ac044b96844",
   "metadata": {},
   "outputs": [],
   "source": [
    "# ---- APIリクエストがおかしくなったとき用にテストするゾーン\n",
    "import joblib\n",
    "import turnip_main_code as turnip\n",
    "import turnip_parameter as p\n",
    "import requests\n",
    "import io\n",
    "\n",
    "csv_url = f'https://finance.yahoo.co.jp/quote/1301.T/history/download'\n",
    "cookies = { \"_n\" : p._n, \"T\" : p.T, \"Y\" : p.Y }\n",
    "csv = requests.get(csv_url, cookies=cookies)\n",
    "with open(\"./csvs/1301.csv\", mode='w') as f: f.write(csv.text)"
   ]
  }
 ],
 "metadata": {
  "kernelspec": {
   "display_name": "Python 3 (ipykernel)",
   "language": "python",
   "name": "python3"
  },
  "language_info": {
   "codemirror_mode": {
    "name": "ipython",
    "version": 3
   },
   "file_extension": ".py",
   "mimetype": "text/x-python",
   "name": "python",
   "nbconvert_exporter": "python",
   "pygments_lexer": "ipython3",
   "version": "3.9.6"
  }
 },
 "nbformat": 4,
 "nbformat_minor": 5
}
